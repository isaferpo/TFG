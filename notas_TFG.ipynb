{
 "cells": [
  {
   "cell_type": "markdown",
   "metadata": {},
   "source": [
    "# NOTAS TFG\n",
    "\n",
    "Aquí tomaré anotaciones y comentaré los códigos del TFG. \n",
    "\n",
    "## Código para limpiar documento helium.chem\n",
    "\n",
    "Lo que hace es, usando **os** para guardar el directorio donde se va a guardar el nuevo archivo y **re** (algoritmos regulares) para buscar patrones de caracteres, crear un nuevo fichero de texto sin líneas de comentario, espacios en blanco ni datos más allá de las reacciones (sin tomar la pared como especie)."
   ]
  },
  {
   "cell_type": "code",
   "execution_count": null,
   "metadata": {},
   "outputs": [],
   "source": [
    "import os\n",
    "import re\n",
    "\n",
    "# Definir la ruta del archivo\n",
    "file_path = os.path.join(os.getcwd(), 'TFG', 'helium.chem')\n",
    "output_path = os.path.join(os.getcwd(), 'TFG', 'helium_clean.txt')\n",
    "\n",
    "# Leer el archivo y eliminar líneas comentadas y vacías\n",
    "with open(file_path, 'r') as file:\n",
    "    lines = file.readlines()\n",
    "\n",
    "# Filtrar las líneas que contienen flechas, 'e' y 'He(...)', y eliminar las líneas que comienzan con %, espacios en blanco y barras\n",
    "pattern = re.compile(r'(->|<->|e|He\\([^\\)]+\\))') # Darle una vuelta a esto porque es demasiado complicado\n",
    "clean_lines = [line.strip() for line in lines if line.strip() and not line.strip().startswith('%') and not line.strip().startswith('|') and pattern.search(line)]\n",
    "\n",
    "# Extraer solo los elementos e, +, flechas o He(...)\n",
    "extracted_lines = []\n",
    "for line in clean_lines:\n",
    "    matches = pattern.findall(line)\n",
    "    extracted_lines.append(\" \".join(matches))\n",
    "\n",
    "# Guardar el resultado en un nuevo archivo de texto\n",
    "with open(output_path, 'w') as file:\n",
    "    file.writelines(\"\\n\".join(extracted_lines))\n",
    "\n",
    "print(\"Archivo limpio creado en:\", output_path)"
   ]
  },
  {
   "cell_type": "markdown",
   "metadata": {},
   "source": [
    "El código lee el archivo helium_chem original, elimina las líneas que comienzan por %, espacios en blanco y barras y filtra las líneas que contienen flechas, e o He(...), extrayendo únicamente esos elementos.\n",
    "\n",
    "Lo siguiente será extraer la información de los nodos del archivo limpio."
   ]
  },
  {
   "cell_type": "markdown",
   "metadata": {},
   "source": [
    "### Código nodos especies\n",
    "\n",
    "\n",
    "Buscamos ahora crear un código que busque las especies e y He(...) del archivo limpio de reacciones y elimine los elementos repetido para quedarnos con un archivo de texto que contenga todas las especies implicadas en las reacciones del archivo original (sin tener en cuenta la pared)"
   ]
  },
  {
   "cell_type": "code",
   "execution_count": 4,
   "metadata": {},
   "outputs": [
    {
     "name": "stdout",
     "output_type": "stream",
     "text": [
      "Archivo de nodos de especies creado en: nodos_especies.txt\n"
     ]
    }
   ],
   "source": [
    "import os\n",
    "import re\n",
    "\n",
    "file_path = 'helium_clean.txt'\n",
    "output_path = 'nodos_especies.txt'\n",
    "\n",
    "# Leer el archivo\n",
    "with open(file_path, 'r', encoding=\"utf-8\") as file:\n",
    "    lines = file.readlines()\n",
    "\n",
    "# Patrón para encontrar 'e' y 'He(...)'\n",
    "pattern = re.compile(r'(e|He\\([^\\)]+\\))')\n",
    "\n",
    "# Extraer solo los elementos 'e' y 'He(...)' eliminando duplicados\n",
    "extracted_elements = set()  # Usar un conjunto para eliminar duplicados automáticamente\n",
    "for line in lines:\n",
    "    matches = pattern.findall(line)\n",
    "    extracted_elements.update(matches)  # Usar .update() en lugar de .add()\n",
    "\n",
    "# Guardar el resultado en un nuevo archivo de texto\n",
    "with open(output_path, 'w', encoding=\"utf-8\") as file:\n",
    "    file.write(\"\\n\".join(sorted(extracted_elements)))  # Guardar ordenado (opcional)\n",
    "\n",
    "print(\"Archivo de nodos de especies creado en:\", output_path)\n"
   ]
  },
  {
   "cell_type": "markdown",
   "metadata": {},
   "source": [
    "### Código nodos reacciones\n",
    "\n",
    "Un código que, a cada línea del documento de reacciones limpio le asigne un nombre R1, R2, etc... y guardar el número de nodos en un archivo de texto para llamarlo cuando construya la red"
   ]
  },
  {
   "cell_type": "code",
   "execution_count": 5,
   "metadata": {},
   "outputs": [
    {
     "name": "stdout",
     "output_type": "stream",
     "text": [
      "Archivo de nodos de reacciones creado en: nodos_reacciones.txt\n"
     ]
    }
   ],
   "source": [
    "import os\n",
    "\n",
    "file_path = 'helium_clean.txt'\n",
    "output_path = 'nodos_reacciones.txt'\n",
    "\n",
    "# Leer el archivo\n",
    "with open(file_path, 'r') as file:\n",
    "    lines = file.readlines()\n",
    "\n",
    "# Asignar un nombre único a cada línea\n",
    "named_lines = [f\"R{i+1}\" for i in range(len(lines))]\n",
    "\n",
    "# Guardar el resultado en un nuevo archivo de texto\n",
    "with open(output_path, 'w') as file:\n",
    "    file.writelines(\"\\n\".join(named_lines))\n",
    "\n",
    "print(\"Archivo de nodos de reacciones creado en:\", output_path)"
   ]
  },
  {
   "cell_type": "markdown",
   "metadata": {},
   "source": [
    "### Código edges helio\n",
    "\n",
    "\n",
    "Antes de construir la red, quiero hacer un archivo que registre en qué reacción se encuentra cada especie de helio y asigne a esa misma reacción el indicador que hemos especificado anteriormente R1,R2,R3... Para ello he usado el siguiente código:"
   ]
  },
  {
   "cell_type": "code",
   "execution_count": 6,
   "metadata": {},
   "outputs": [
    {
     "name": "stdout",
     "output_type": "stream",
     "text": [
      "✅ Archivo de edges creado en: c:\\Users\\isafe\\OneDrive\\Desktop\\Escritorio\\FÍSICA\\TFG\\TFG\\edges_helium.txt\n"
     ]
    }
   ],
   "source": [
    "import os\n",
    "import re\n",
    "\n",
    "# Definir rutas de los archivos\n",
    "base_path = os.getcwd()  # Carpeta base donde están los archivos\n",
    "reacciones_path = os.path.join(base_path, 'helium_clean.txt')  # Archivo con todas las reacciones\n",
    "especies_path = os.path.join(base_path, 'nodos_especies.txt')  # Archivo con especies de helio\n",
    "reacciones_id_path = os.path.join(base_path, 'nodos_reacciones.txt')  # Archivo con identificadores R1, R2, ...\n",
    "edges_output_path = os.path.join(base_path, 'edges_helium.txt')  # Archivo de salida con los edges\n",
    "\n",
    "# Leer nodos de especies de helio\n",
    "with open(especies_path, 'r', encoding=\"utf-8\") as file:\n",
    "    especies_helio = [line.strip() for line in file]  # Guardar especies en una lista\n",
    "\n",
    "# Leer identificadores de reacciones (R1, R2, ...)\n",
    "with open(reacciones_id_path, 'r', encoding=\"utf-8\") as file:\n",
    "    reacciones_id = [line.strip() for line in file]  # Lista con R1, R2, ...\n",
    "\n",
    "# Procesar el archivo de reacciones y generar los edges\n",
    "edges = []  # Lista para almacenar los edges (reacción ↔ especie)\n",
    "pattern = re.compile(r'(e|He\\([^\\)]+\\))')  # Expresión regular para detectar especies\n",
    "\n",
    "with open(reacciones_path, 'r', encoding=\"utf-8\") as file:\n",
    "    for i, line in enumerate(file):  # i representa el número de reacción en orden\n",
    "        if i < len(reacciones_id):  # Asegurar que no se pase del número de R*\n",
    "            reaccion = reacciones_id[i]  # Obtener el identificador (R1, R2, ...)\n",
    "            \n",
    "            matches = pattern.findall(line)  # Buscar todas las especies en la reacción\n",
    "            \n",
    "            for match in matches:  \n",
    "                edges.append(f\"{reaccion} {match}\")  # Guardar cada especie encontrada\n",
    "\n",
    "# Guardar los edges en un archivo de salida\n",
    "with open(edges_output_path, 'w', encoding=\"utf-8\") as file:\n",
    "    file.write(\"\\n\".join(edges))\n",
    "\n",
    "print(f\"✅ Archivo de edges creado en: {edges_output_path}\")"
   ]
  },
  {
   "cell_type": "markdown",
   "metadata": {},
   "source": [
    "## Red reacciones y especies\n",
    "\n",
    "\n",
    "Una vez que tenemos los nodos y los edges podemos construir la red con networkx"
   ]
  },
  {
   "cell_type": "code",
   "execution_count": null,
   "metadata": {},
   "outputs": [],
   "source": [
    "import os\n",
    "import networkx as nx\n",
    "import matplotlib.pyplot as plt\n",
    "\n",
    "# Definir la ruta base\n",
    "base_path = os.path.dirname(os.path.abspath(__file__))\n",
    "\n",
    "# Crear un grafo bipartito\n",
    "B = nx.Graph()\n",
    "\n",
    "# Leer nodos del conjunto A\n",
    "nodos_especies_path = os.path.join(base_path, 'nodos_especies.txt')\n",
    "with open(nodos_especies_path, 'r') as file:\n",
    "    nodos_especies = {line.strip() for line in file}\n",
    "    B.add_nodes_from(nodos_especies, bipartite=0)  # Etiquetar como parte del conjunto 0\n",
    "\n",
    "# Leer nodos del conjunto B\n",
    "nodos_reacciones_path = os.path.join(base_path, 'nodos_reacciones.txt')\n",
    "with open(nodos_reacciones_path, 'r') as file:\n",
    "    nodos_reacciones = {line.strip() for line in file}\n",
    "    B.add_nodes_from(nodos_reacciones, bipartite=1)  # Etiquetar como parte del conjunto 1\n",
    "\n",
    "# Leer las aristas desde el archivo\n",
    "edges_path = os.path.join(base_path, 'edges_helium.txt')\n",
    "with open(edges_path, 'r') as file:\n",
    "    edges = [tuple(line.strip().split()) for line in file]\n",
    "    B.add_edges_from(edges)\n",
    "\n",
    "# Verificar la estructura de la red\n",
    "print(\"Nodos en el conjunto A:\", list(nodos_especies))\n",
    "print(\"Nodos en el conjunto B:\", list(nodos_reacciones))\n",
    "print(\"Número de nodos:\", B.number_of_nodes())\n",
    "print(\"Número de aristas:\", B.number_of_edges())\n",
    "\n",
    "# Posicionamiento de los nodos\n",
    "pos = nx.bipartite_layout(B, nodos_especies)  # Usa los nodos de A para la disposición\n",
    "\n",
    "# Dibujar la red bipartita\n",
    "plt.figure(figsize=(8, 6))\n",
    "nx.draw(B, pos, with_labels=True, node_size=700, \n",
    "        node_color=[\"red\" if n in nodos_especies else \"blue\" for n in B.nodes()], \n",
    "        edge_color=\"gray\", font_size=10)\n",
    "plt.title(\"Red Bipartita\")\n",
    "plt.show()"
   ]
  },
  {
   "cell_type": "markdown",
   "metadata": {},
   "source": []
  }
 ],
 "metadata": {
  "kernelspec": {
   "display_name": "TFG_3.9",
   "language": "python",
   "name": "python3"
  },
  "language_info": {
   "codemirror_mode": {
    "name": "ipython",
    "version": 3
   },
   "file_extension": ".py",
   "mimetype": "text/x-python",
   "name": "python",
   "nbconvert_exporter": "python",
   "pygments_lexer": "ipython3",
   "version": "3.9.21"
  }
 },
 "nbformat": 4,
 "nbformat_minor": 2
}
